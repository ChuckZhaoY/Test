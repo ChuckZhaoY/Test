{
  "cells": [
    {
      "cell_type": "markdown",
      "metadata": {
        "id": "L3OixcuRWfNF"
      },
      "source": [
        "## Mount the Google Drive onto the Colab as the storage location.\n",
        "\n",
        "Following the instructions returned from the below cell. You will click a web link and select the google account you want to mount, then copy the authorication code to the blank, press enter."
      ]
    },
    {
      "cell_type": "code",
      "execution_count": 1,
      "metadata": {
        "colab": {
          "base_uri": "https://localhost:8080/"
        },
        "id": "b1hg6sZyWnPL",
        "outputId": "49efb3ee-6542-437f-8c4b-d8f363fe5b8a"
      },
      "outputs": [
        {
          "output_type": "stream",
          "name": "stdout",
          "text": [
            "Mounted at /content/gdrive\n"
          ]
        }
      ],
      "source": [
        "# This must be run within a Google Colab environment \n",
        "from google.colab import drive\n",
        "drive.mount('/content/gdrive')"
      ]
    },
    {
      "cell_type": "markdown",
      "metadata": {
        "id": "OokvpclldFSu"
      },
      "source": [
        "## Append the directory location where you upload the start code folder (In this problem, *RLalgs*) to the sys.path\n",
        "\n",
        "E.g. dir = '/content/drive/My Drive/RL/.', start code folder is inside \"RL\" folder."
      ]
    },
    {
      "cell_type": "code",
      "execution_count": 2,
      "metadata": {
        "id": "3U53Bo1zEzMq"
      },
      "outputs": [],
      "source": [
        "import sys\n",
        "# sys.path.append('/content/gdrive/My Drive/RL/.')\n",
        "sys.path.append('/content/gdrive/My Drive/EECS6885/codingAssignment/CodingAssignmentFrozenLake/')\n",
        "# print(sys.path)\n",
        "# sys.path.append('Users\\MSI-NB\\Desktop\\Columbia\\6885\\HW3\\codingAssignment\\CodingAssignmentFrozenLake')"
      ]
    },
    {
      "cell_type": "markdown",
      "metadata": {
        "id": "MK7mp6DNWXw8"
      },
      "source": [
        "Your code should remain in the block marked by<br />\n",
        "\\############################<br />\n",
        "\\# YOUR CODE STARTS HERE<br />\n",
        "\\# YOUR CODE ENDS HERE<br />\n",
        "\\############################<br />\n",
        "Please don't edit anything outside the block."
      ]
    },
    {
      "cell_type": "code",
      "execution_count": 3,
      "metadata": {
        "id": "7Dh_yeu4mw_O"
      },
      "outputs": [],
      "source": [
        "%reload_ext autoreload\n",
        "%autoreload 2"
      ]
    },
    {
      "cell_type": "code",
      "execution_count": 4,
      "metadata": {
        "colab": {
          "base_uri": "https://localhost:8080/"
        },
        "id": "GrPrvsd_Rzgp",
        "outputId": "7862d4ef-6f33-4d26-9c7b-d80466968593"
      },
      "outputs": [
        {
          "output_type": "stream",
          "name": "stdout",
          "text": [
            "Looking in indexes: https://pypi.org/simple, https://us-python.pkg.dev/colab-wheels/public/simple/\n",
            "Requirement already satisfied: gym==0.25.2 in /usr/local/lib/python3.7/dist-packages (0.25.2)\n",
            "Requirement already satisfied: numpy>=1.18.0 in /usr/local/lib/python3.7/dist-packages (from gym==0.25.2) (1.21.6)\n",
            "Requirement already satisfied: gym-notices>=0.0.4 in /usr/local/lib/python3.7/dist-packages (from gym==0.25.2) (0.0.8)\n",
            "Requirement already satisfied: cloudpickle>=1.2.0 in /usr/local/lib/python3.7/dist-packages (from gym==0.25.2) (1.5.0)\n",
            "Requirement already satisfied: importlib-metadata>=4.8.0 in /usr/local/lib/python3.7/dist-packages (from gym==0.25.2) (4.13.0)\n",
            "Requirement already satisfied: typing-extensions>=3.6.4 in /usr/local/lib/python3.7/dist-packages (from importlib-metadata>=4.8.0->gym==0.25.2) (4.1.1)\n",
            "Requirement already satisfied: zipp>=0.5 in /usr/local/lib/python3.7/dist-packages (from importlib-metadata>=4.8.0->gym==0.25.2) (3.10.0)\n"
          ]
        }
      ],
      "source": [
        "pip install gym==0.25.2"
      ]
    },
    {
      "cell_type": "code",
      "execution_count": 5,
      "metadata": {
        "colab": {
          "base_uri": "https://localhost:8080/"
        },
        "id": "XtGRo4QaRzgp",
        "outputId": "1fbd778c-55cc-48a2-b02a-521e55737945"
      },
      "outputs": [
        {
          "output_type": "stream",
          "name": "stdout",
          "text": [
            "Looking in indexes: https://pypi.org/simple, https://us-python.pkg.dev/colab-wheels/public/simple/\n",
            "Requirement already satisfied: gym[toy_text] in /usr/local/lib/python3.7/dist-packages (0.25.2)\n",
            "Requirement already satisfied: gym-notices>=0.0.4 in /usr/local/lib/python3.7/dist-packages (from gym[toy_text]) (0.0.8)\n",
            "Requirement already satisfied: numpy>=1.18.0 in /usr/local/lib/python3.7/dist-packages (from gym[toy_text]) (1.21.6)\n",
            "Requirement already satisfied: cloudpickle>=1.2.0 in /usr/local/lib/python3.7/dist-packages (from gym[toy_text]) (1.5.0)\n",
            "Requirement already satisfied: importlib-metadata>=4.8.0 in /usr/local/lib/python3.7/dist-packages (from gym[toy_text]) (4.13.0)\n",
            "Collecting pygame==2.1.0\n",
            "  Downloading pygame-2.1.0-cp37-cp37m-manylinux_2_17_x86_64.manylinux2014_x86_64.whl (18.3 MB)\n",
            "\u001b[K     |████████████████████████████████| 18.3 MB 1.7 MB/s \n",
            "\u001b[?25hRequirement already satisfied: typing-extensions>=3.6.4 in /usr/local/lib/python3.7/dist-packages (from importlib-metadata>=4.8.0->gym[toy_text]) (4.1.1)\n",
            "Requirement already satisfied: zipp>=0.5 in /usr/local/lib/python3.7/dist-packages (from importlib-metadata>=4.8.0->gym[toy_text]) (3.10.0)\n",
            "Installing collected packages: pygame\n",
            "Successfully installed pygame-2.1.0\n"
          ]
        }
      ],
      "source": [
        "pip install gym[toy_text]"
      ]
    },
    {
      "cell_type": "code",
      "execution_count": 6,
      "metadata": {
        "id": "_-bkZGYkWXw9"
      },
      "outputs": [],
      "source": [
        "import numpy as np\n",
        "import random\n",
        "import matplotlib.pyplot as plt\n",
        "import gym"
      ]
    },
    {
      "cell_type": "markdown",
      "metadata": {
        "id": "N9gHp6NAWXxF"
      },
      "source": [
        "## 1. Incremental Implementation of Average\n",
        "We've finished the incremental implementation of average for you. Please call the function estimate with 1/step step size and fixed step size to compare the difference between this two on a simulated Bandit problem.<br />\n"
      ]
    },
    {
      "cell_type": "code",
      "execution_count": 7,
      "metadata": {
        "id": "BjXztwInWXxF",
        "colab": {
          "base_uri": "https://localhost:8080/"
        },
        "outputId": "8fb4d69f-2b23-43a9-d98f-e0fb1fe041ff"
      },
      "outputs": [
        {
          "output_type": "stream",
          "name": "stdout",
          "text": [
            "RLalgs is a package containing Reinforcement Learning algorithms Epsilon-Greedy, Policy Iteration, Value Iteration, Q-Learning, and SARSA.\n"
          ]
        }
      ],
      "source": [
        "from RLalgs.utils import estimate\n",
        "random.seed(6885)\n",
        "numTimeStep = 10000\n",
        "q_h = np.zeros(numTimeStep + 1) # Q Value estimate with 1/step step size\n",
        "q_f = np.zeros(numTimeStep + 1) # Q value estimate with fixed step size\n",
        "FixedStepSize = 0.5 #A large number to exaggerate the difference\n",
        "for step in range(1, numTimeStep + 1):\n",
        "    if step < numTimeStep / 2:\n",
        "        r = random.gauss(mu = 1, sigma = 0.1)\n",
        "    else:\n",
        "        r = random.gauss(mu = 3, sigma = 0.1)\n",
        "    \n",
        "    #TIPS: Call function estimate defined in ./RLalgs/utils.py\n",
        "    ############################\n",
        "    # YOUR CODE STARTS HERE\n",
        "    q_h[step] = estimate(q_h[step - 1],1/step, r)\n",
        "    q_f[step] = estimate(q_f[step - 1],FixedStepSize, r)\n",
        "    # YOUR CODE ENDS HERE\n",
        "    ############################\n",
        "    \n",
        "q_h = q_h[1:]\n",
        "q_f = q_f[1:]"
      ]
    },
    {
      "cell_type": "markdown",
      "metadata": {
        "id": "6qLlFr3VWXxM"
      },
      "source": [
        "Plot the two Q value estimates. (Please include a title, labels on both axes, and legends)<br />"
      ]
    },
    {
      "cell_type": "code",
      "execution_count": 8,
      "metadata": {
        "colab": {
          "base_uri": "https://localhost:8080/",
          "height": 295
        },
        "id": "rhWYCi08WXxO",
        "outputId": "2bb4a926-3cf4-4754-f96a-6682b369da35"
      },
      "outputs": [
        {
          "output_type": "display_data",
          "data": {
            "text/plain": [
              "<Figure size 432x288 with 1 Axes>"
            ],
            "image/png": "[encoded data removed]"
          },
          "metadata": {
            "needs_background": "light"
          }
        }
      ],
      "source": [
        "############################\n",
        "# YOUR CODE STARTS HERE\n",
        "plt.plot(q_h,label = '1/n step size')\n",
        "plt.plot(q_f, label = 'constant step size')\n",
        "plt.xlabel(\"step size\")\n",
        "plt.ylabel(\"Q value\")\n",
        "plt.title(\"n-arm-bandit problem\")\n",
        "plt.legend()\n",
        "plt.show()\n",
        "# YOUR CODE ENDS HERE\n",
        "############################"
      ]
    },
    {
      "cell_type": "markdown",
      "metadata": {
        "id": "2-taF6umWXxU"
      },
      "source": [
        "## 2. $\\epsilon$-Greedy for Exploration\n",
        "In Reinforcement Learning, we are always faced with the dilemma of exploration and exploitation. $\\epsilon$-Greedy is a trade-off between them. You are gonna implement Greedy and $\\epsilon$-Greedy. We combine these two policies in one function by treating Greedy as $\\epsilon$-Greedy where $\\epsilon = 0$. Edit the function epsilon_greedy in ./RLalgs/utils.py.<br />\n"
      ]
    },
    {
      "cell_type": "code",
      "execution_count": 9,
      "metadata": {
        "colab": {
          "base_uri": "https://localhost:8080/"
        },
        "id": "x0N5VJAGWXxV",
        "outputId": "7bfcaf9e-57de-4116-f73c-d3ca41767c27"
      },
      "outputs": [
        {
          "output_type": "stream",
          "name": "stdout",
          "text": [
            "Values:\n",
            "[ 0.61264537  0.27923079 -0.84600857  0.05469574 -1.09990968]\n",
            "Greedy Choice = 0\n",
            "Epsilon-Greedy Choice = 0\n"
          ]
        }
      ],
      "source": [
        "from RLalgs.utils import epsilon_greedy\n",
        "np.random.seed(6885) #Set the seed to cancel the randomness\n",
        "q = np.random.normal(0, 1, size = 5)\n",
        "############################\n",
        "# YOUR CODE STARTS HERE\n",
        "greedy_action = epsilon_greedy(q,0) #Use epsilon = 0 for Greedy\n",
        "e_greedy_action = epsilon_greedy(q,0.1) #Use epsilon = 0.1\n",
        "# YOUR CODE ENDS HERE\n",
        "############################\n",
        "print('Values:')\n",
        "print(q)\n",
        "print('Greedy Choice =', greedy_action)\n",
        "print('Epsilon-Greedy Choice =', e_greedy_action)"
      ]
    },
    {
      "cell_type": "markdown",
      "metadata": {
        "id": "SMZNXHPWWXxg"
      },
      "source": [
        "You should get the following results.<br />\n",
        "Values:<br />\n",
        "\\[ 0.61264537  0.27923079 -0.84600857  0.05469574 -1.09990968\\]<br />\n",
        "Greedy Choice = 0<br />"
      ]
    },
    {
      "cell_type": "markdown",
      "metadata": {
        "id": "80csLoFuWXxg"
      },
      "source": [
        "## 3. Frozen Lake Environment "
      ]
    },
    {
      "cell_type": "code",
      "execution_count": 10,
      "metadata": {
        "colab": {
          "base_uri": "https://localhost:8080/"
        },
        "id": "Ag1egsO0WXxh",
        "outputId": "348810c3-757c-45b6-ee2e-d6486a58f0ab"
      },
      "outputs": [
        {
          "output_type": "stream",
          "name": "stderr",
          "text": [
            "/usr/local/lib/python3.7/dist-packages/gym/core.py:318: DeprecationWarning: \u001b[33mWARN: Initializing wrapper in old step API which returns one bool instead of two. It is recommended to set `new_step_api=True` to use new step API. This will be the default behaviour in future.\u001b[0m\n",
            "  \"Initializing wrapper in old step API which returns one bool instead of two. It is recommended to set `new_step_api=True` to use new step API. This will be the default behaviour in future.\"\n",
            "/usr/local/lib/python3.7/dist-packages/gym/wrappers/step_api_compatibility.py:40: DeprecationWarning: \u001b[33mWARN: Initializing environment in old step API which returns one bool instead of two. It is recommended to set `new_step_api=True` to use new step API. This will be the default behaviour in future.\u001b[0m\n",
            "  \"Initializing environment in old step API which returns one bool instead of two. It is recommended to set `new_step_api=True` to use new step API. This will be the default behaviour in future.\"\n"
          ]
        }
      ],
      "source": [
        "env = gym.make('FrozenLake-v1',render_mode='human')"
      ]
    },
    {
      "cell_type": "markdown",
      "metadata": {
        "id": "raHDV2igWXxl"
      },
      "source": [
        "### 3.1 Derive Q value from V value\n",
        "Edit function action_evaluation in ./RLalgs/utils.py.<br />\n",
        "TIPS: $q(s, a)=\\sum_{s',r}p(s',r|s,a)(r+\\gamma v(s'))$<br />"
      ]
    },
    {
      "cell_type": "code",
      "execution_count": 11,
      "metadata": {
        "colab": {
          "base_uri": "https://localhost:8080/"
        },
        "id": "kjiPzPVzWXxs",
        "outputId": "7ba1f121-1074-4b92-9f5f-bbdc392a70ee"
      },
      "outputs": [
        {
          "output_type": "stream",
          "name": "stdout",
          "text": [
            "Action values:\n",
            "[[1.         1.         1.         1.        ]\n",
            " [1.         1.         1.         1.        ]\n",
            " [1.         1.         1.         1.        ]\n",
            " [1.         1.         1.         1.        ]\n",
            " [1.         1.         1.         1.        ]\n",
            " [1.         1.         1.         1.        ]\n",
            " [1.         1.         1.         1.        ]\n",
            " [1.         1.         1.         1.        ]\n",
            " [1.         1.         1.         1.        ]\n",
            " [1.         1.         1.         1.        ]\n",
            " [1.         1.         1.         1.        ]\n",
            " [1.         1.         1.         1.        ]\n",
            " [1.         1.         1.         1.        ]\n",
            " [1.         1.         1.         1.        ]\n",
            " [1.         1.33333333 1.33333333 1.33333333]\n",
            " [1.         1.         1.         1.        ]]\n"
          ]
        }
      ],
      "source": [
        "from RLalgs.utils import action_evaluation\n",
        "v = np.ones(16)\n",
        "q = action_evaluation(env = env.env, gamma = 1, v = v)\n",
        "print('Action values:')\n",
        "print(q)"
      ]
    },
    {
      "cell_type": "markdown",
      "metadata": {
        "id": "naD8LRw7WXy_"
      },
      "source": [
        "You should get Q values all equal to one except at State 14"
      ]
    },
    {
      "cell_type": "markdown",
      "metadata": {
        "id": "VjtGfJkCWXzA"
      },
      "source": [
        "Pseudo-codes of the following four algorithms can be found on Page 80, 83, 130, 131 of the Sutton's book."
      ]
    },
    {
      "cell_type": "markdown",
      "metadata": {
        "id": "npMqmLkzWXzB"
      },
      "source": [
        "### 3.2 Model-based RL algorithms"
      ]
    },
    {
      "cell_type": "code",
      "execution_count": 12,
      "metadata": {
        "id": "UTkYNUuJWXzC"
      },
      "outputs": [],
      "source": [
        "from RLalgs.utils import action_evaluation, action_selection, render"
      ]
    },
    {
      "cell_type": "markdown",
      "metadata": {
        "id": "s8BWq8PLWXzH"
      },
      "source": [
        "### 3.2.1 Policy Iteration\n",
        "Edit the function policy_iteration and relevant functions in ./RLalgs/pi.py to implement the Policy Iteration Algorithm.<br />"
      ]
    },
    {
      "cell_type": "code",
      "execution_count": 13,
      "metadata": {
        "colab": {
          "base_uri": "https://localhost:8080/"
        },
        "id": "fYEuSethWXzI",
        "outputId": "17ae1e73-cac3-4fab-f20a-4c0856816204"
      },
      "outputs": [
        {
          "output_type": "stream",
          "name": "stdout",
          "text": [
            "State values:\n",
            "[0.82352774 0.8235272  0.82352682 0.82352662 0.82352791 0.\n",
            " 0.52941063 0.         0.82352817 0.82352851 0.76470509 0.\n",
            " 0.         0.88235232 0.94117615 0.        ]\n",
            "Number of iterations to converge = 6\n"
          ]
        }
      ],
      "source": [
        "from RLalgs.pi import policy_iteration\n",
        "V, policy, numIterations = policy_iteration(env = env.env, gamma = 1, max_iteration = 500, theta = 1e-7)\n",
        "print('State values:')\n",
        "print(V)\n",
        "print('Number of iterations to converge =', numIterations)"
      ]
    },
    {
      "cell_type": "markdown",
      "metadata": {
        "id": "4q6PmhZZWXzS"
      },
      "source": [
        "You should get values close to:<br />\n",
        "State values:<br />\n",
        "\\[0.82352774 0.8235272  0.82352682 0.82352662 0.82352791 0.<br />\n",
        "0.52941063 0.         0.82352817 0.82352851 0.76470509 0.<br />0.         0.88235232 0.94117615 0.\\]"
      ]
    },
    {
      "cell_type": "code",
      "execution_count": 15,
      "metadata": {
        "id": "olPkpHkhWXzT"
      },
      "outputs": [],
      "source": [
        "# Uncomment and run the following to evaluate your result, comment them when you generate the pdf\n",
        "# Q = action_evaluation(env = env.env, gamma = 1, v = V)\n",
        "# policy_estimate = action_selection(Q)\n",
        "# print(policy_estimate)\n",
        "# render(env, policy_estimate)"
      ]
    },
    {
      "cell_type": "markdown",
      "metadata": {
        "id": "gutmkVWaWXzi"
      },
      "source": [
        "### 3.2.2 Value Iteration\n",
        "Edit the function value_iteration and relevant functions in ./RLalgs/vi.py to implement the Value Iteration Algorithm.<br />"
      ]
    },
    {
      "cell_type": "code",
      "execution_count": 16,
      "metadata": {
        "colab": {
          "base_uri": "https://localhost:8080/"
        },
        "id": "0j9ZEkPyWXzj",
        "outputId": "8e7fb5b5-d043-408c-9bdd-24e1d1c6c5d8"
      },
      "outputs": [
        {
          "output_type": "stream",
          "name": "stdout",
          "text": [
            "State values:\n",
            "[0.82352773 0.82352718 0.8235268  0.8235266  0.8235279  0.\n",
            " 0.52941062 0.         0.82352816 0.8235285  0.76470509 0.\n",
            " 0.         0.88235231 0.94117615 0.        ]\n",
            "Number of iterations to converge = 389\n"
          ]
        }
      ],
      "source": [
        "from RLalgs.vi import value_iteration\n",
        "V, policy, numIterations = value_iteration(env = env.env, gamma = 1, max_iteration = 500, theta = 1e-7)\n",
        "print('State values:')\n",
        "print(V)\n",
        "print('Number of iterations to converge =', numIterations)"
      ]
    },
    {
      "cell_type": "markdown",
      "metadata": {
        "id": "YUTMsRrxWXzr"
      },
      "source": [
        "You should get values close to:<br />\n",
        "State values:<br />\n",
        "\\[0.82352773 0.82352718  0.8235268 0.8235266 0.8235279 0.<br />\n",
        "0.52941062 0.         0.82352816 0.8235285 0.76470509 0.<br />0.         0.88235231 0.94117615 0.\\]"
      ]
    },
    {
      "cell_type": "code",
      "execution_count": 17,
      "metadata": {
        "id": "rNcCXWuzWXzs"
      },
      "outputs": [],
      "source": [
        "#Uncomment and run the following to evaluate your result, comment them when you generate the pdf\n",
        "# Q = action_evaluation(env = env.env, gamma = 1, v = V)\n",
        "# policy_estimate = action_selection(Q)\n",
        "# render(env, policy_estimate)"
      ]
    },
    {
      "cell_type": "markdown",
      "metadata": {
        "id": "_InsqQe3WXzw"
      },
      "source": [
        "### 3.3 Model free RL algorithms"
      ]
    },
    {
      "cell_type": "markdown",
      "metadata": {
        "id": "QNir2YPgWXzw"
      },
      "source": [
        "### 3.3.1 Q-Learning\n",
        "Edit the function QLearning in ./RLalgs/ql.py to implement the Q-Learning Algorithm.<br />"
      ]
    },
    {
      "cell_type": "code",
      "source": [
        "#If running on colab run this first to avoid 'no available video device'\n",
        "# import os\n",
        "# os.environ[\"SDL_VIDEODRIVER\"] = \"dummy\""
      ],
      "metadata": {
        "id": "mOxEomYySosE"
      },
      "execution_count": 19,
      "outputs": []
    },
    {
      "cell_type": "code",
      "execution_count": 20,
      "metadata": {
        "colab": {
          "base_uri": "https://localhost:8080/"
        },
        "id": "x4jpOau5WXzx",
        "outputId": "5b8e7d13-4e67-428d-d582-6508680899e6"
      },
      "outputs": [
        {
          "output_type": "stream",
          "name": "stdout",
          "text": [
            "Action values:\n",
            "[[9.91933745e-02 8.05388941e-02 8.32938342e-02 1.36226816e-01]\n",
            " [3.89068939e-02 7.44550999e-02 6.12516832e-02 1.42913737e-01]\n",
            " [1.67457834e-01 8.61519794e-02 7.47541190e-02 7.55744614e-02]\n",
            " [1.62569972e-03 7.12296955e-02 8.40566455e-03 1.08509309e-02]\n",
            " [1.14433339e-01 1.07373543e-03 0.00000000e+00 6.27023015e-03]\n",
            " [0.00000000e+00 0.00000000e+00 0.00000000e+00 0.00000000e+00]\n",
            " [1.75693396e-01 7.54405509e-02 7.13771956e-02 1.37775899e-02]\n",
            " [0.00000000e+00 0.00000000e+00 0.00000000e+00 0.00000000e+00]\n",
            " [3.46763159e-02 9.24035736e-09 1.25684295e-01 2.83639624e-02]\n",
            " [7.28495897e-03 2.70817472e-01 0.00000000e+00 4.41198251e-02]\n",
            " [3.37527698e-01 1.42013476e-01 1.43313028e-01 5.90975360e-02]\n",
            " [0.00000000e+00 0.00000000e+00 0.00000000e+00 0.00000000e+00]\n",
            " [0.00000000e+00 0.00000000e+00 0.00000000e+00 0.00000000e+00]\n",
            " [4.36420350e-06 1.35080946e-01 5.38790556e-07 3.26254874e-01]\n",
            " [2.18899236e-01 1.94291197e-01 6.50991891e-01 2.40294529e-01]\n",
            " [0.00000000e+00 0.00000000e+00 0.00000000e+00 0.00000000e+00]]\n"
          ]
        }
      ],
      "source": [
        "from RLalgs.ql import QLearning\n",
        "Q = QLearning(env = env.env, num_episodes = 1000, gamma = 1, lr = 0.1, e = 0.1)\n",
        "print('Action values:')\n",
        "print(Q)"
      ]
    },
    {
      "cell_type": "markdown",
      "metadata": {
        "id": "JhRDkVUjWX0D"
      },
      "source": [
        "Generally, you should get non-zero action values on non-terminal states."
      ]
    },
    {
      "cell_type": "code",
      "execution_count": null,
      "metadata": {
        "colab": {
          "base_uri": "https://localhost:8080/"
        },
        "id": "JW8ZbutmWX0E",
        "outputId": "fd597a00-65b0-4d6a-bf62-6161247556a5"
      },
      "outputs": [
        {
          "name": "stdout",
          "output_type": "stream",
          "text": [
            "[0 0 0 0 0 0 0 0 3 1 0 0 0 2 1 0]\n",
            "0\n",
            "Episode ends. Reward = 1.0\n"
          ]
        }
      ],
      "source": [
        "#Uncomment the following to evaluate your result, comment them when you generate the pdf\n",
        "# env = gym.make('FrozenLake-v1')\n",
        "# policy_estimate = action_selection(Q)\n",
        "# print(policy_estimate)\n",
        "# render(env, policy_estimate)"
      ]
    },
    {
      "cell_type": "markdown",
      "metadata": {
        "id": "sw5I3ZXdWX0G"
      },
      "source": [
        "### 3.3.2 SARSA\n",
        "Edit the function SARSA in ./RLalgs/sarsa.py to implement the SARSA Algorithm.<br />"
      ]
    },
    {
      "cell_type": "code",
      "execution_count": 21,
      "metadata": {
        "id": "I-bvEnPuWX0H",
        "colab": {
          "base_uri": "https://localhost:8080/"
        },
        "outputId": "ed2c01b9-5924-4a20-c4bb-ddc83df5bb82"
      },
      "outputs": [
        {
          "output_type": "stream",
          "name": "stdout",
          "text": [
            "Action values:\n",
            "[[0.01271021 0.01326766 0.01711528 0.03374105]\n",
            " [0.00905831 0.0128892  0.01821033 0.04407994]\n",
            " [0.06413923 0.00843617 0.02014274 0.01366993]\n",
            " [0.01776317 0.         0.00264974 0.00129665]\n",
            " [0.02821598 0.         0.00371032 0.        ]\n",
            " [0.         0.         0.         0.        ]\n",
            " [0.06870724 0.02523647 0.01257207 0.00812432]\n",
            " [0.         0.         0.         0.        ]\n",
            " [0.00617621 0.01079853 0.04586323 0.00230406]\n",
            " [0.00249833 0.13154863 0.         0.01297978]\n",
            " [0.03601102 0.01101439 0.09615461 0.0053956 ]\n",
            " [0.         0.         0.         0.        ]\n",
            " [0.         0.         0.         0.        ]\n",
            " [0.04263922 0.24714188 0.05214283 0.04763692]\n",
            " [0.13392354 0.271      0.13070858 0.57400753]\n",
            " [0.         0.         0.         0.        ]]\n"
          ]
        }
      ],
      "source": [
        "from RLalgs.sarsa import SARSA\n",
        "Q = SARSA(env = env.env, num_episodes = 1000, gamma = 1, lr = 0.1, e = 0.1)\n",
        "print('Action values:')\n",
        "print(Q)"
      ]
    },
    {
      "cell_type": "markdown",
      "metadata": {
        "id": "dhaj57nZWX0L"
      },
      "source": [
        "Generally, you should get non-zero action values on non-terminal states."
      ]
    },
    {
      "cell_type": "code",
      "execution_count": null,
      "metadata": {
        "id": "2X3qsekoWX0M"
      },
      "outputs": [],
      "source": [
        "#Uncomment the following to evaluate your result, comment them when you generate the pdf\n",
        "#env = gym.make('FrozenLake-v1')\n",
        "#policy_estimate = action_selection(Q)\n",
        "#render(env, policy_estimate)"
      ]
    },
    {
      "cell_type": "markdown",
      "metadata": {
        "id": "yVArXevGWX0P"
      },
      "source": [
        "### 3.4 Human\n",
        "You can play this game if you are interested. See if you can get the frisbee either with or without the model."
      ]
    },
    {
      "cell_type": "code",
      "execution_count": null,
      "metadata": {
        "id": "l2zKGeoSWX0Q"
      },
      "outputs": [],
      "source": [
        "from RLalgs.utils import human_play\n",
        "#Uncomment and run the following to play the game, comment it when you generate the pdf\n",
        "#env = gym.make('FrozenLake-v1')\n",
        "#human_play(env)"
      ]
    },
    {
      "cell_type": "markdown",
      "metadata": {
        "id": "_uHP9HIrWX0S"
      },
      "source": [
        "## 4. Exploration VS. Exploitation\n",
        "Try to reproduce Figure 2.2 (the upper one is enough) of the Sutton's book based on the experiment described in [Chapter 2.3](http://incompleteideas.net/book/RLbook2020.pdf).<br />"
      ]
    },
    {
      "cell_type": "code",
      "execution_count": 26,
      "metadata": {
        "id": "-RJFKpAVWX0T"
      },
      "outputs": [],
      "source": [
        "# Do the experiment and record average reward acquired in each time step\n",
        "############################\n",
        "# YOUR CODE STARTS HERE\n",
        "random.seed(None)\n",
        "def pt4(T,k,runs,e,Q_true):\n",
        "    result_R = [0 for i in range(T)]\n",
        "    for run in range(runs):\n",
        "        avg_R = [0 for i in range(T)]\n",
        "        choose_num = [0 for i in range(k)]\n",
        "        Q_es = np.random.normal(0,1,size = k)\n",
        "    \n",
        "        for step in range(1,T):\n",
        "            choose = epsilon_greedy(Q_es,e,seed = None)\n",
        "            choose_num[choose] += 1\n",
        "            R = random.gauss(mu = Q_true[choose],sigma = 1)\n",
        "            Q_es[choose] = Q_es[choose] + (1/choose_num[choose]) * (R - Q_es[choose])\n",
        "            avg_R[step] = avg_R[step - 1] + (1/step) * (R - avg_R[step - 1])\n",
        "\n",
        "        result_R = np.sum([avg_R,result_R],axis = 0)\n",
        "    \n",
        "    for i in range(T):\n",
        "        result_R[i] = result_R[i]/runs\n",
        "    \n",
        "    return result_R\n",
        "\n",
        "\n",
        "T = 1000\n",
        "k = 10\n",
        "runs = 2000\n",
        "\n",
        "Q_true = np.random.normal(0,1,size = k)\n",
        "\n",
        "# greedy\n",
        "greedy = pt4(T,k,runs,0,Q_true)\n",
        "#e = 0.1\n",
        "e_01 = pt4(T,k,runs,0.1,Q_true)\n",
        "\n",
        "#e = 0.01\n",
        "e_001 = pt4(T,k,runs,0.01,Q_true)\n",
        "# YOUR CODE ENDS HERE\n",
        "############################"
      ]
    },
    {
      "cell_type": "code",
      "execution_count": 27,
      "metadata": {
        "id": "MxQ5tSs0WX0V",
        "colab": {
          "base_uri": "https://localhost:8080/",
          "height": 279
        },
        "outputId": "aa165cd4-e402-41ac-87d2-89be6ab6e21e"
      },
      "outputs": [
        {
          "output_type": "display_data",
          "data": {
            "text/plain": [
              "<Figure size 432x288 with 1 Axes>"
            ],
            "image/png": "[encoded data removed]"
          },
          "metadata": {
            "needs_background": "light"
          }
        }
      ],
      "source": [
        "# Plot the average reward\n",
        "############################\n",
        "# YOUR CODE STARTS HERE\n",
        "line1 = plt.plot([i for i in range(1,T+1)], greedy,label='Greedy')\n",
        "line2 = plt.plot([i for i in range(1,T+1)], e_01,label='Epsilon_Greedy = 0.1')\n",
        "line3 = plt.plot([i for i in range(1,T+1)], e_001,label='Epsilon_Greedy = 0.01')\n",
        "plt.legend()\n",
        "plt.xlabel('Steps')\n",
        "plt.ylabel('Average reward')\n",
        "plt.show()\n",
        "# YOUR CODE ENDS HERE\n",
        "############################"
      ]
    },
    {
      "cell_type": "markdown",
      "metadata": {
        "id": "wMfbvo9oWX0Y"
      },
      "source": [
        "You should get curves similar to that in the book."
      ]
    }
  ],
  "metadata": {
    "colab": {
      "provenance": []
    },
    "kernelspec": {
      "display_name": "Python 3 (ipykernel)",
      "language": "python",
      "name": "python3"
    },
    "language_info": {
      "codemirror_mode": {
        "name": "ipython",
        "version": 3
      },
      "file_extension": ".py",
      "mimetype": "text/x-python",
      "name": "python",
      "nbconvert_exporter": "python",
      "pygments_lexer": "ipython3",
      "version": "3.9.7"
    }
  },
  "nbformat": 4,
  "nbformat_minor": 0
}